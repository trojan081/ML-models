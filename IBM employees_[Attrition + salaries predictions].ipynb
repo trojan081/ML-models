{
 "cells": [
  {
   "cell_type": "markdown",
   "metadata": {
    "id": "Lr0gHHN3lvmX"
   },
   "source": [
    "<p style=\"background-color: white; color: black; font-family: Cambria; font-size: 2em; text-align: center; border-radius: 30px; box-shadow: 0 4px 8px lightsteelblue; padding: 25px;  border: 1px solid black;\">\n",
    "Kaggle. IBM employees.\n",
    "</p>\n"
   ]
  },
  {
   "cell_type": "code",
   "execution_count": 75,
   "metadata": {},
   "outputs": [],
   "source": [
    "# Importing neccessary libraries\n",
    "\n",
    "import pandas as pd\n",
    "import numpy as np\n",
    "import scipy.stats as sc\n",
    "from scipy.stats import pearsonr\n",
    "from sklearn.preprocessing import LabelEncoder, OneHotEncoder\n",
    "from sklearn.linear_model import LinearRegression\n",
    "from sklearn.metrics import mean_squared_error\n",
    "from sklearn.preprocessing import normalize\n",
    "import matplotlib.pyplot as plt\n",
    "from tabulate import tabulate\n",
    "from sklearn.model_selection import train_test_split\n",
    "%matplotlib inline"
   ]
  },
  {
   "cell_type": "markdown",
   "metadata": {},
   "source": [
    "<p style=\"background-color: white; color: black; font-family: Georgia; font-size: 2em; text-align: left; border-radius: 10px; padding: 10px; box-shadow: 0 4px 8px lightsteelblue; margin: 20px 0; margin-right: 65%; border: 1px solid black;\">\n",
    "1. Feature engineering\n",
    "</p>\n"
   ]
  },
  {
   "cell_type": "markdown",
   "metadata": {
    "id": "8xlKTwBepGtj"
   },
   "source": [
    " This dataset contains various information about empoyees, such as salary, education, work-life balance, work perfomance etc.\n",
    " Let's explore it."
   ]
  },
  {
   "cell_type": "code",
   "execution_count": 21,
   "metadata": {
    "id": "Ispdu43foTpR"
   },
   "outputs": [],
   "source": [
    "# Loading the dataset\n",
    "\n",
    "ibm = pd.read_csv('WA_Fn-UseC_-HR-Employee-Attrition.xls')"
   ]
  },
  {
   "cell_type": "code",
   "execution_count": 22,
   "metadata": {
    "colab": {
     "base_uri": "https://localhost:8080/",
     "height": 325
    },
    "id": "7qq-pOe_o4Mb",
    "outputId": "f03c6b8e-88c2-492c-a86c-de43ea90828c"
   },
   "outputs": [
    {
     "data": {
      "text/html": [
       "<div>\n",
       "<style scoped>\n",
       "    .dataframe tbody tr th:only-of-type {\n",
       "        vertical-align: middle;\n",
       "    }\n",
       "\n",
       "    .dataframe tbody tr th {\n",
       "        vertical-align: top;\n",
       "    }\n",
       "\n",
       "    .dataframe thead th {\n",
       "        text-align: right;\n",
       "    }\n",
       "</style>\n",
       "<table border=\"1\" class=\"dataframe\">\n",
       "  <thead>\n",
       "    <tr style=\"text-align: right;\">\n",
       "      <th></th>\n",
       "      <th>Age</th>\n",
       "      <th>Attrition</th>\n",
       "      <th>BusinessTravel</th>\n",
       "      <th>DailyRate</th>\n",
       "      <th>Department</th>\n",
       "      <th>DistanceFromHome</th>\n",
       "      <th>Education</th>\n",
       "      <th>EducationField</th>\n",
       "      <th>EmployeeCount</th>\n",
       "      <th>EmployeeNumber</th>\n",
       "      <th>...</th>\n",
       "      <th>RelationshipSatisfaction</th>\n",
       "      <th>StandardHours</th>\n",
       "      <th>StockOptionLevel</th>\n",
       "      <th>TotalWorkingYears</th>\n",
       "      <th>TrainingTimesLastYear</th>\n",
       "      <th>WorkLifeBalance</th>\n",
       "      <th>YearsAtCompany</th>\n",
       "      <th>YearsInCurrentRole</th>\n",
       "      <th>YearsSinceLastPromotion</th>\n",
       "      <th>YearsWithCurrManager</th>\n",
       "    </tr>\n",
       "  </thead>\n",
       "  <tbody>\n",
       "    <tr>\n",
       "      <th>0</th>\n",
       "      <td>41</td>\n",
       "      <td>Yes</td>\n",
       "      <td>Travel_Rarely</td>\n",
       "      <td>1102</td>\n",
       "      <td>Sales</td>\n",
       "      <td>1</td>\n",
       "      <td>2</td>\n",
       "      <td>Life Sciences</td>\n",
       "      <td>1</td>\n",
       "      <td>1</td>\n",
       "      <td>...</td>\n",
       "      <td>1</td>\n",
       "      <td>80</td>\n",
       "      <td>0</td>\n",
       "      <td>8</td>\n",
       "      <td>0</td>\n",
       "      <td>1</td>\n",
       "      <td>6</td>\n",
       "      <td>4</td>\n",
       "      <td>0</td>\n",
       "      <td>5</td>\n",
       "    </tr>\n",
       "    <tr>\n",
       "      <th>1</th>\n",
       "      <td>49</td>\n",
       "      <td>No</td>\n",
       "      <td>Travel_Frequently</td>\n",
       "      <td>279</td>\n",
       "      <td>Research &amp; Development</td>\n",
       "      <td>8</td>\n",
       "      <td>1</td>\n",
       "      <td>Life Sciences</td>\n",
       "      <td>1</td>\n",
       "      <td>2</td>\n",
       "      <td>...</td>\n",
       "      <td>4</td>\n",
       "      <td>80</td>\n",
       "      <td>1</td>\n",
       "      <td>10</td>\n",
       "      <td>3</td>\n",
       "      <td>3</td>\n",
       "      <td>10</td>\n",
       "      <td>7</td>\n",
       "      <td>1</td>\n",
       "      <td>7</td>\n",
       "    </tr>\n",
       "    <tr>\n",
       "      <th>2</th>\n",
       "      <td>37</td>\n",
       "      <td>Yes</td>\n",
       "      <td>Travel_Rarely</td>\n",
       "      <td>1373</td>\n",
       "      <td>Research &amp; Development</td>\n",
       "      <td>2</td>\n",
       "      <td>2</td>\n",
       "      <td>Other</td>\n",
       "      <td>1</td>\n",
       "      <td>4</td>\n",
       "      <td>...</td>\n",
       "      <td>2</td>\n",
       "      <td>80</td>\n",
       "      <td>0</td>\n",
       "      <td>7</td>\n",
       "      <td>3</td>\n",
       "      <td>3</td>\n",
       "      <td>0</td>\n",
       "      <td>0</td>\n",
       "      <td>0</td>\n",
       "      <td>0</td>\n",
       "    </tr>\n",
       "    <tr>\n",
       "      <th>3</th>\n",
       "      <td>33</td>\n",
       "      <td>No</td>\n",
       "      <td>Travel_Frequently</td>\n",
       "      <td>1392</td>\n",
       "      <td>Research &amp; Development</td>\n",
       "      <td>3</td>\n",
       "      <td>4</td>\n",
       "      <td>Life Sciences</td>\n",
       "      <td>1</td>\n",
       "      <td>5</td>\n",
       "      <td>...</td>\n",
       "      <td>3</td>\n",
       "      <td>80</td>\n",
       "      <td>0</td>\n",
       "      <td>8</td>\n",
       "      <td>3</td>\n",
       "      <td>3</td>\n",
       "      <td>8</td>\n",
       "      <td>7</td>\n",
       "      <td>3</td>\n",
       "      <td>0</td>\n",
       "    </tr>\n",
       "    <tr>\n",
       "      <th>4</th>\n",
       "      <td>27</td>\n",
       "      <td>No</td>\n",
       "      <td>Travel_Rarely</td>\n",
       "      <td>591</td>\n",
       "      <td>Research &amp; Development</td>\n",
       "      <td>2</td>\n",
       "      <td>1</td>\n",
       "      <td>Medical</td>\n",
       "      <td>1</td>\n",
       "      <td>7</td>\n",
       "      <td>...</td>\n",
       "      <td>4</td>\n",
       "      <td>80</td>\n",
       "      <td>1</td>\n",
       "      <td>6</td>\n",
       "      <td>3</td>\n",
       "      <td>3</td>\n",
       "      <td>2</td>\n",
       "      <td>2</td>\n",
       "      <td>2</td>\n",
       "      <td>2</td>\n",
       "    </tr>\n",
       "  </tbody>\n",
       "</table>\n",
       "<p>5 rows × 35 columns</p>\n",
       "</div>"
      ],
      "text/plain": [
       "   Age Attrition     BusinessTravel  DailyRate              Department  \\\n",
       "0   41       Yes      Travel_Rarely       1102                   Sales   \n",
       "1   49        No  Travel_Frequently        279  Research & Development   \n",
       "2   37       Yes      Travel_Rarely       1373  Research & Development   \n",
       "3   33        No  Travel_Frequently       1392  Research & Development   \n",
       "4   27        No      Travel_Rarely        591  Research & Development   \n",
       "\n",
       "   DistanceFromHome  Education EducationField  EmployeeCount  EmployeeNumber  \\\n",
       "0                 1          2  Life Sciences              1               1   \n",
       "1                 8          1  Life Sciences              1               2   \n",
       "2                 2          2          Other              1               4   \n",
       "3                 3          4  Life Sciences              1               5   \n",
       "4                 2          1        Medical              1               7   \n",
       "\n",
       "   ...  RelationshipSatisfaction StandardHours  StockOptionLevel  \\\n",
       "0  ...                         1            80                 0   \n",
       "1  ...                         4            80                 1   \n",
       "2  ...                         2            80                 0   \n",
       "3  ...                         3            80                 0   \n",
       "4  ...                         4            80                 1   \n",
       "\n",
       "   TotalWorkingYears  TrainingTimesLastYear WorkLifeBalance  YearsAtCompany  \\\n",
       "0                  8                      0               1               6   \n",
       "1                 10                      3               3              10   \n",
       "2                  7                      3               3               0   \n",
       "3                  8                      3               3               8   \n",
       "4                  6                      3               3               2   \n",
       "\n",
       "  YearsInCurrentRole  YearsSinceLastPromotion  YearsWithCurrManager  \n",
       "0                  4                        0                     5  \n",
       "1                  7                        1                     7  \n",
       "2                  0                        0                     0  \n",
       "3                  7                        3                     0  \n",
       "4                  2                        2                     2  \n",
       "\n",
       "[5 rows x 35 columns]"
      ]
     },
     "execution_count": 22,
     "metadata": {},
     "output_type": "execute_result"
    }
   ],
   "source": [
    "ibm.head()"
   ]
  },
  {
   "cell_type": "code",
   "execution_count": 23,
   "metadata": {
    "colab": {
     "base_uri": "https://localhost:8080/"
    },
    "id": "e3pI0EKFtX39",
    "outputId": "66b793c9-e210-4373-e996-176a316b97ee"
   },
   "outputs": [
    {
     "name": "stdout",
     "output_type": "stream",
     "text": [
      "<class 'pandas.core.frame.DataFrame'>\n",
      "RangeIndex: 1470 entries, 0 to 1469\n",
      "Data columns (total 35 columns):\n",
      " #   Column                    Non-Null Count  Dtype \n",
      "---  ------                    --------------  ----- \n",
      " 0   Age                       1470 non-null   int64 \n",
      " 1   Attrition                 1470 non-null   object\n",
      " 2   BusinessTravel            1470 non-null   object\n",
      " 3   DailyRate                 1470 non-null   int64 \n",
      " 4   Department                1470 non-null   object\n",
      " 5   DistanceFromHome          1470 non-null   int64 \n",
      " 6   Education                 1470 non-null   int64 \n",
      " 7   EducationField            1470 non-null   object\n",
      " 8   EmployeeCount             1470 non-null   int64 \n",
      " 9   EmployeeNumber            1470 non-null   int64 \n",
      " 10  EnvironmentSatisfaction   1470 non-null   int64 \n",
      " 11  Gender                    1470 non-null   object\n",
      " 12  HourlyRate                1470 non-null   int64 \n",
      " 13  JobInvolvement            1470 non-null   int64 \n",
      " 14  JobLevel                  1470 non-null   int64 \n",
      " 15  JobRole                   1470 non-null   object\n",
      " 16  JobSatisfaction           1470 non-null   int64 \n",
      " 17  MaritalStatus             1470 non-null   object\n",
      " 18  MonthlyIncome             1470 non-null   int64 \n",
      " 19  MonthlyRate               1470 non-null   int64 \n",
      " 20  NumCompaniesWorked        1470 non-null   int64 \n",
      " 21  Over18                    1470 non-null   object\n",
      " 22  OverTime                  1470 non-null   object\n",
      " 23  PercentSalaryHike         1470 non-null   int64 \n",
      " 24  PerformanceRating         1470 non-null   int64 \n",
      " 25  RelationshipSatisfaction  1470 non-null   int64 \n",
      " 26  StandardHours             1470 non-null   int64 \n",
      " 27  StockOptionLevel          1470 non-null   int64 \n",
      " 28  TotalWorkingYears         1470 non-null   int64 \n",
      " 29  TrainingTimesLastYear     1470 non-null   int64 \n",
      " 30  WorkLifeBalance           1470 non-null   int64 \n",
      " 31  YearsAtCompany            1470 non-null   int64 \n",
      " 32  YearsInCurrentRole        1470 non-null   int64 \n",
      " 33  YearsSinceLastPromotion   1470 non-null   int64 \n",
      " 34  YearsWithCurrManager      1470 non-null   int64 \n",
      "dtypes: int64(26), object(9)\n",
      "memory usage: 402.1+ KB\n"
     ]
    }
   ],
   "source": [
    "ibm.info()"
   ]
  },
  {
   "cell_type": "markdown",
   "metadata": {
    "id": "DcaGFgRKtzon"
   },
   "source": [
    "One of the important preprocessing procedures is to deal somehow with missing values. We can replace them with some data related to other features, or even delete, if we decide that it's appropriate. But as far as we see, that our dataset doesn't have null values, we don't need to do anything.\n",
    "\n",
    "**Let's look at some other features of the dataset:**\n",
    "- *Attrition* - this is a target value, telling that a person left his job by some reason;\n",
    "- *EmployeeCount* - not clear;\n",
    "- *EmployeeNumber* - not clear (probably smth. like id);\n",
    "- *DailyRate*, *HourlyRate*, *MonthlyRate* - seems to be salary per period, but need to be checked in accordiance with *MonthlyIncome*;\n",
    "- *Gender* - since we can't assume that the gender separation is appropriate, and this feature would hardly make a sufficient impact to our result, moreover it can mistakenly change the target prediction - we will delete it;\n",
    "- *PercentSalaryHike* - salary increasing percent;\n",
    "- *StockOptionLevel* - option of buying stocks for employee.\n",
    "\n",
    "**Let's explore these variables more precisely.**"
   ]
  },
  {
   "cell_type": "code",
   "execution_count": 24,
   "metadata": {
    "colab": {
     "base_uri": "https://localhost:8080/"
    },
    "id": "QKYjQwEL1BkK",
    "outputId": "f4afeb82-f30d-47dd-8149-11263a086d15"
   },
   "outputs": [
    {
     "data": {
      "text/plain": [
       "count    1470.0\n",
       "mean        1.0\n",
       "std         0.0\n",
       "min         1.0\n",
       "25%         1.0\n",
       "50%         1.0\n",
       "75%         1.0\n",
       "max         1.0\n",
       "Name: EmployeeCount, dtype: float64"
      ]
     },
     "execution_count": 24,
     "metadata": {},
     "output_type": "execute_result"
    }
   ],
   "source": [
    "# EmployeeCount variable is always equal to 1, so we can just drop it\n",
    "\n",
    "ibm['EmployeeCount'].describe()"
   ]
  },
  {
   "cell_type": "code",
   "execution_count": 25,
   "metadata": {
    "colab": {
     "base_uri": "https://localhost:8080/"
    },
    "id": "cPPLkgksummB",
    "outputId": "0bcf923e-22f9-4c34-c36c-ca1681719fc9"
   },
   "outputs": [
    {
     "data": {
      "text/plain": [
       "0          1\n",
       "1          2\n",
       "2          4\n",
       "3          5\n",
       "4          7\n",
       "        ... \n",
       "1465    2061\n",
       "1466    2062\n",
       "1467    2064\n",
       "1468    2065\n",
       "1469    2068\n",
       "Name: EmployeeNumber, Length: 1470, dtype: int64"
      ]
     },
     "execution_count": 25,
     "metadata": {},
     "output_type": "execute_result"
    }
   ],
   "source": [
    "# Indeed, this is some kind of employee id. Should be also dropped\n",
    "\n",
    "ibm['EmployeeNumber']"
   ]
  },
  {
   "cell_type": "code",
   "execution_count": 26,
   "metadata": {
    "colab": {
     "base_uri": "https://localhost:8080/",
     "height": 423
    },
    "id": "1cONeDh41mO1",
    "outputId": "14d56715-f08a-4029-9e2d-94f4caf25185"
   },
   "outputs": [
    {
     "data": {
      "text/html": [
       "<div>\n",
       "<style scoped>\n",
       "    .dataframe tbody tr th:only-of-type {\n",
       "        vertical-align: middle;\n",
       "    }\n",
       "\n",
       "    .dataframe tbody tr th {\n",
       "        vertical-align: top;\n",
       "    }\n",
       "\n",
       "    .dataframe thead th {\n",
       "        text-align: right;\n",
       "    }\n",
       "</style>\n",
       "<table border=\"1\" class=\"dataframe\">\n",
       "  <thead>\n",
       "    <tr style=\"text-align: right;\">\n",
       "      <th></th>\n",
       "      <th>DailyRate</th>\n",
       "      <th>HourlyRate</th>\n",
       "      <th>MonthlyRate</th>\n",
       "      <th>MonthlyIncome</th>\n",
       "    </tr>\n",
       "  </thead>\n",
       "  <tbody>\n",
       "    <tr>\n",
       "      <th>0</th>\n",
       "      <td>1102</td>\n",
       "      <td>94</td>\n",
       "      <td>19479</td>\n",
       "      <td>5993</td>\n",
       "    </tr>\n",
       "    <tr>\n",
       "      <th>1</th>\n",
       "      <td>279</td>\n",
       "      <td>61</td>\n",
       "      <td>24907</td>\n",
       "      <td>5130</td>\n",
       "    </tr>\n",
       "    <tr>\n",
       "      <th>2</th>\n",
       "      <td>1373</td>\n",
       "      <td>92</td>\n",
       "      <td>2396</td>\n",
       "      <td>2090</td>\n",
       "    </tr>\n",
       "    <tr>\n",
       "      <th>3</th>\n",
       "      <td>1392</td>\n",
       "      <td>56</td>\n",
       "      <td>23159</td>\n",
       "      <td>2909</td>\n",
       "    </tr>\n",
       "    <tr>\n",
       "      <th>4</th>\n",
       "      <td>591</td>\n",
       "      <td>40</td>\n",
       "      <td>16632</td>\n",
       "      <td>3468</td>\n",
       "    </tr>\n",
       "    <tr>\n",
       "      <th>...</th>\n",
       "      <td>...</td>\n",
       "      <td>...</td>\n",
       "      <td>...</td>\n",
       "      <td>...</td>\n",
       "    </tr>\n",
       "    <tr>\n",
       "      <th>1465</th>\n",
       "      <td>884</td>\n",
       "      <td>41</td>\n",
       "      <td>12290</td>\n",
       "      <td>2571</td>\n",
       "    </tr>\n",
       "    <tr>\n",
       "      <th>1466</th>\n",
       "      <td>613</td>\n",
       "      <td>42</td>\n",
       "      <td>21457</td>\n",
       "      <td>9991</td>\n",
       "    </tr>\n",
       "    <tr>\n",
       "      <th>1467</th>\n",
       "      <td>155</td>\n",
       "      <td>87</td>\n",
       "      <td>5174</td>\n",
       "      <td>6142</td>\n",
       "    </tr>\n",
       "    <tr>\n",
       "      <th>1468</th>\n",
       "      <td>1023</td>\n",
       "      <td>63</td>\n",
       "      <td>13243</td>\n",
       "      <td>5390</td>\n",
       "    </tr>\n",
       "    <tr>\n",
       "      <th>1469</th>\n",
       "      <td>628</td>\n",
       "      <td>82</td>\n",
       "      <td>10228</td>\n",
       "      <td>4404</td>\n",
       "    </tr>\n",
       "  </tbody>\n",
       "</table>\n",
       "<p>1470 rows × 4 columns</p>\n",
       "</div>"
      ],
      "text/plain": [
       "      DailyRate  HourlyRate  MonthlyRate  MonthlyIncome\n",
       "0          1102          94        19479           5993\n",
       "1           279          61        24907           5130\n",
       "2          1373          92         2396           2090\n",
       "3          1392          56        23159           2909\n",
       "4           591          40        16632           3468\n",
       "...         ...         ...          ...            ...\n",
       "1465        884          41        12290           2571\n",
       "1466        613          42        21457           9991\n",
       "1467        155          87         5174           6142\n",
       "1468       1023          63        13243           5390\n",
       "1469        628          82        10228           4404\n",
       "\n",
       "[1470 rows x 4 columns]"
      ]
     },
     "execution_count": 26,
     "metadata": {},
     "output_type": "execute_result"
    }
   ],
   "source": [
    "ibm[['DailyRate','HourlyRate','MonthlyRate','MonthlyIncome']]"
   ]
  },
  {
   "cell_type": "code",
   "execution_count": 27,
   "metadata": {
    "colab": {
     "base_uri": "https://localhost:8080/"
    },
    "id": "KuKVzsEi2NdJ",
    "outputId": "52716bf7-db9d-4b5b-ea7c-9ac2e2cdc4c4"
   },
   "outputs": [
    {
     "data": {
      "text/plain": [
       "PearsonRResult(statistic=0.034813626134121874, pvalue=0.18218959924707867)"
      ]
     },
     "execution_count": 27,
     "metadata": {},
     "output_type": "execute_result"
    }
   ],
   "source": [
    "# Let's check the correlation between MonthlyRate and MonthlyIncome\n",
    "# Although correlation is very low, p-value is not small enough to reject the hypothesys of correlation\n",
    "# We don't have enough information to clearly understand the value of Rate variables, so we will drop them and use MonthlyIncome as a data of actual salaries\n",
    "\n",
    "sc.pearsonr(ibm['MonthlyRate'], ibm['MonthlyIncome'])\n"
   ]
  },
  {
   "cell_type": "code",
   "execution_count": 28,
   "metadata": {
    "colab": {
     "base_uri": "https://localhost:8080/"
    },
    "id": "OsQ-kI2g472N",
    "outputId": "4a97338e-c412-41c8-cd43-482daaf3ad50"
   },
   "outputs": [
    {
     "data": {
      "text/plain": [
       "(1470, 29)"
      ]
     },
     "execution_count": 28,
     "metadata": {},
     "output_type": "execute_result"
    }
   ],
   "source": [
    "# Deleting variables\n",
    "\n",
    "ibm = ibm.drop(['DailyRate', 'HourlyRate', 'MonthlyRate', 'EmployeeNumber', 'EmployeeCount', 'Gender'], axis=1)\n",
    "ibm.shape"
   ]
  },
  {
   "cell_type": "markdown",
   "metadata": {
    "id": "dIXgv0Od67Ru"
   },
   "source": [
    "  Now, let's look at the  categorical variables:\n"
   ]
  },
  {
   "cell_type": "code",
   "execution_count": 29,
   "metadata": {
    "colab": {
     "base_uri": "https://localhost:8080/",
     "height": 423
    },
    "id": "4JPgw6617B51",
    "outputId": "ae5b0953-7070-4979-abad-f4c0c6bff759"
   },
   "outputs": [
    {
     "data": {
      "text/html": [
       "<div>\n",
       "<style scoped>\n",
       "    .dataframe tbody tr th:only-of-type {\n",
       "        vertical-align: middle;\n",
       "    }\n",
       "\n",
       "    .dataframe tbody tr th {\n",
       "        vertical-align: top;\n",
       "    }\n",
       "\n",
       "    .dataframe thead th {\n",
       "        text-align: right;\n",
       "    }\n",
       "</style>\n",
       "<table border=\"1\" class=\"dataframe\">\n",
       "  <thead>\n",
       "    <tr style=\"text-align: right;\">\n",
       "      <th></th>\n",
       "      <th>Attrition</th>\n",
       "      <th>BusinessTravel</th>\n",
       "      <th>Department</th>\n",
       "      <th>EducationField</th>\n",
       "      <th>JobRole</th>\n",
       "      <th>MaritalStatus</th>\n",
       "      <th>Over18</th>\n",
       "      <th>OverTime</th>\n",
       "    </tr>\n",
       "  </thead>\n",
       "  <tbody>\n",
       "    <tr>\n",
       "      <th>0</th>\n",
       "      <td>Yes</td>\n",
       "      <td>Travel_Rarely</td>\n",
       "      <td>Sales</td>\n",
       "      <td>Life Sciences</td>\n",
       "      <td>Sales Executive</td>\n",
       "      <td>Single</td>\n",
       "      <td>Y</td>\n",
       "      <td>Yes</td>\n",
       "    </tr>\n",
       "    <tr>\n",
       "      <th>1</th>\n",
       "      <td>No</td>\n",
       "      <td>Travel_Frequently</td>\n",
       "      <td>Research &amp; Development</td>\n",
       "      <td>Life Sciences</td>\n",
       "      <td>Research Scientist</td>\n",
       "      <td>Married</td>\n",
       "      <td>Y</td>\n",
       "      <td>No</td>\n",
       "    </tr>\n",
       "    <tr>\n",
       "      <th>2</th>\n",
       "      <td>Yes</td>\n",
       "      <td>Travel_Rarely</td>\n",
       "      <td>Research &amp; Development</td>\n",
       "      <td>Other</td>\n",
       "      <td>Laboratory Technician</td>\n",
       "      <td>Single</td>\n",
       "      <td>Y</td>\n",
       "      <td>Yes</td>\n",
       "    </tr>\n",
       "    <tr>\n",
       "      <th>3</th>\n",
       "      <td>No</td>\n",
       "      <td>Travel_Frequently</td>\n",
       "      <td>Research &amp; Development</td>\n",
       "      <td>Life Sciences</td>\n",
       "      <td>Research Scientist</td>\n",
       "      <td>Married</td>\n",
       "      <td>Y</td>\n",
       "      <td>Yes</td>\n",
       "    </tr>\n",
       "    <tr>\n",
       "      <th>4</th>\n",
       "      <td>No</td>\n",
       "      <td>Travel_Rarely</td>\n",
       "      <td>Research &amp; Development</td>\n",
       "      <td>Medical</td>\n",
       "      <td>Laboratory Technician</td>\n",
       "      <td>Married</td>\n",
       "      <td>Y</td>\n",
       "      <td>No</td>\n",
       "    </tr>\n",
       "    <tr>\n",
       "      <th>...</th>\n",
       "      <td>...</td>\n",
       "      <td>...</td>\n",
       "      <td>...</td>\n",
       "      <td>...</td>\n",
       "      <td>...</td>\n",
       "      <td>...</td>\n",
       "      <td>...</td>\n",
       "      <td>...</td>\n",
       "    </tr>\n",
       "    <tr>\n",
       "      <th>1465</th>\n",
       "      <td>No</td>\n",
       "      <td>Travel_Frequently</td>\n",
       "      <td>Research &amp; Development</td>\n",
       "      <td>Medical</td>\n",
       "      <td>Laboratory Technician</td>\n",
       "      <td>Married</td>\n",
       "      <td>Y</td>\n",
       "      <td>No</td>\n",
       "    </tr>\n",
       "    <tr>\n",
       "      <th>1466</th>\n",
       "      <td>No</td>\n",
       "      <td>Travel_Rarely</td>\n",
       "      <td>Research &amp; Development</td>\n",
       "      <td>Medical</td>\n",
       "      <td>Healthcare Representative</td>\n",
       "      <td>Married</td>\n",
       "      <td>Y</td>\n",
       "      <td>No</td>\n",
       "    </tr>\n",
       "    <tr>\n",
       "      <th>1467</th>\n",
       "      <td>No</td>\n",
       "      <td>Travel_Rarely</td>\n",
       "      <td>Research &amp; Development</td>\n",
       "      <td>Life Sciences</td>\n",
       "      <td>Manufacturing Director</td>\n",
       "      <td>Married</td>\n",
       "      <td>Y</td>\n",
       "      <td>Yes</td>\n",
       "    </tr>\n",
       "    <tr>\n",
       "      <th>1468</th>\n",
       "      <td>No</td>\n",
       "      <td>Travel_Frequently</td>\n",
       "      <td>Sales</td>\n",
       "      <td>Medical</td>\n",
       "      <td>Sales Executive</td>\n",
       "      <td>Married</td>\n",
       "      <td>Y</td>\n",
       "      <td>No</td>\n",
       "    </tr>\n",
       "    <tr>\n",
       "      <th>1469</th>\n",
       "      <td>No</td>\n",
       "      <td>Travel_Rarely</td>\n",
       "      <td>Research &amp; Development</td>\n",
       "      <td>Medical</td>\n",
       "      <td>Laboratory Technician</td>\n",
       "      <td>Married</td>\n",
       "      <td>Y</td>\n",
       "      <td>No</td>\n",
       "    </tr>\n",
       "  </tbody>\n",
       "</table>\n",
       "<p>1470 rows × 8 columns</p>\n",
       "</div>"
      ],
      "text/plain": [
       "     Attrition     BusinessTravel              Department EducationField  \\\n",
       "0          Yes      Travel_Rarely                   Sales  Life Sciences   \n",
       "1           No  Travel_Frequently  Research & Development  Life Sciences   \n",
       "2          Yes      Travel_Rarely  Research & Development          Other   \n",
       "3           No  Travel_Frequently  Research & Development  Life Sciences   \n",
       "4           No      Travel_Rarely  Research & Development        Medical   \n",
       "...        ...                ...                     ...            ...   \n",
       "1465        No  Travel_Frequently  Research & Development        Medical   \n",
       "1466        No      Travel_Rarely  Research & Development        Medical   \n",
       "1467        No      Travel_Rarely  Research & Development  Life Sciences   \n",
       "1468        No  Travel_Frequently                   Sales        Medical   \n",
       "1469        No      Travel_Rarely  Research & Development        Medical   \n",
       "\n",
       "                        JobRole MaritalStatus Over18 OverTime  \n",
       "0               Sales Executive        Single      Y      Yes  \n",
       "1            Research Scientist       Married      Y       No  \n",
       "2         Laboratory Technician        Single      Y      Yes  \n",
       "3            Research Scientist       Married      Y      Yes  \n",
       "4         Laboratory Technician       Married      Y       No  \n",
       "...                         ...           ...    ...      ...  \n",
       "1465      Laboratory Technician       Married      Y       No  \n",
       "1466  Healthcare Representative       Married      Y       No  \n",
       "1467     Manufacturing Director       Married      Y      Yes  \n",
       "1468            Sales Executive       Married      Y       No  \n",
       "1469      Laboratory Technician       Married      Y       No  \n",
       "\n",
       "[1470 rows x 8 columns]"
      ]
     },
     "execution_count": 29,
     "metadata": {},
     "output_type": "execute_result"
    }
   ],
   "source": [
    "ibm.select_dtypes(include=['object'])"
   ]
  },
  {
   "cell_type": "markdown",
   "metadata": {},
   "source": [
    "Finally let's look at the graph of unique number of categorical and numeric features:"
   ]
  },
  {
   "cell_type": "code",
   "execution_count": 30,
   "metadata": {
    "colab": {
     "base_uri": "https://localhost:8080/"
    },
    "id": "hvofkAW87gz2",
    "outputId": "7afedd07-6c10-42fb-c2dd-746bc81bb06d"
   },
   "outputs": [
    {
     "data": {
      "image/png": "[encoded data removed]",
      "text/plain": [
       "<Figure size 1000x400 with 2 Axes>"
      ]
     },
     "metadata": {},
     "output_type": "display_data"
    }
   ],
   "source": [
    "cat_features = ibm.select_dtypes(include=['object']).columns.values\n",
    "num_features = ibm.select_dtypes(include=['int']).columns.values\n",
    "\n",
    "fig, ax = plt.subplots(1, 2, figsize=(10,4))\n",
    "plt.subplots_adjust(wspace=0.5)\n",
    "ax[1].barh(cat_features, ibm[cat_features].nunique());\n",
    "ax[1].set_xlabel('# of unique features')\n",
    "ax[1].set_title('Categorical features')\n",
    "ax[0].barh(num_features, ibm[num_features].nunique());\n",
    "ax[0].set_xlabel('# of unique features')\n",
    "ax[0].set_title('Numeric features')\n",
    "plt.show();"
   ]
  },
  {
   "cell_type": "markdown",
   "metadata": {
    "id": "Mp6Vt17E-Y1J"
   },
   "source": [
    "We see that 'Over18' is just single variable and should be deleted. Let's check if we have more such variables and drop them:"
   ]
  },
  {
   "cell_type": "code",
   "execution_count": 31,
   "metadata": {
    "id": "BNf4Afk4-hoy"
   },
   "outputs": [],
   "source": [
    "ibm = ibm.loc[:, ibm.nunique() != 1]"
   ]
  },
  {
   "cell_type": "markdown",
   "metadata": {
    "id": "c6BH6ZEq9ym6"
   },
   "source": [
    "We should decide how we will change the categorical data.  \n",
    "We can use **Label encoding** or **One hot encoding**. **Label encoding** is better if we don't have a gradation of our variables, like *EducationField*. But for such features as *BusinessTravel* we can use **One hot encoding**, since Travel_frequently > Travel_Rarely > Non-Travel"
   ]
  },
  {
   "cell_type": "code",
   "execution_count": 32,
   "metadata": {
    "id": "icd0VUaBAFlH"
   },
   "outputs": [],
   "source": [
    "ibm['BusinessTravel'] = ibm['BusinessTravel'].replace({'Travel_Rarely' : 1, 'Travel_Frequently' : 2, 'Non-Travel' : 0})"
   ]
  },
  {
   "cell_type": "markdown",
   "metadata": {},
   "source": [
    "Let's look at the remaining ones"
   ]
  },
  {
   "cell_type": "code",
   "execution_count": 33,
   "metadata": {},
   "outputs": [
    {
     "name": "stdout",
     "output_type": "stream",
     "text": [
      "Attrition unique values: ['Yes' 'No']\n",
      "-------------------------------------\n",
      "Department unique values: ['Sales' 'Research & Development' 'Human Resources']\n",
      "-------------------------------------\n",
      "EducationField unique values: ['Life Sciences' 'Other' 'Medical' 'Marketing' 'Technical Degree'\n",
      " 'Human Resources']\n",
      "-------------------------------------\n",
      "JobRole unique values: ['Sales Executive' 'Research Scientist' 'Laboratory Technician'\n",
      " 'Manufacturing Director' 'Healthcare Representative' 'Manager'\n",
      " 'Sales Representative' 'Research Director' 'Human Resources']\n",
      "-------------------------------------\n",
      "MaritalStatus unique values: ['Single' 'Married' 'Divorced']\n",
      "-------------------------------------\n",
      "OverTime unique values: ['Yes' 'No']\n",
      "-------------------------------------\n"
     ]
    }
   ],
   "source": [
    "features = ibm.select_dtypes(include=['object']).columns.values\n",
    "\n",
    "for feature in features:\n",
    "    print(f'{feature} unique values: {ibm[feature].unique()}')\n",
    "    print('-------------------------------------')\n",
    "    "
   ]
  },
  {
   "cell_type": "markdown",
   "metadata": {
    "id": "Yqg-_clwBmv2"
   },
   "source": [
    "Let's use **Label encoding** for these variables.\n",
    "We can use 'get_dummies' function. It will replace the original column by additional columns according to the number of categories.\n",
    "Since we have only two categories for *OverTime* and *Attrition* variables, we don't will leave only one column:"
   ]
  },
  {
   "cell_type": "code",
   "execution_count": 34,
   "metadata": {
    "colab": {
     "base_uri": "https://localhost:8080/",
     "height": 273
    },
    "id": "zGbBuBy2CHrW",
    "outputId": "5770b7c4-b11f-48ee-efe8-d7b858d52bd9"
   },
   "outputs": [
    {
     "data": {
      "text/html": [
       "<div>\n",
       "<style scoped>\n",
       "    .dataframe tbody tr th:only-of-type {\n",
       "        vertical-align: middle;\n",
       "    }\n",
       "\n",
       "    .dataframe tbody tr th {\n",
       "        vertical-align: top;\n",
       "    }\n",
       "\n",
       "    .dataframe thead th {\n",
       "        text-align: right;\n",
       "    }\n",
       "</style>\n",
       "<table border=\"1\" class=\"dataframe\">\n",
       "  <thead>\n",
       "    <tr style=\"text-align: right;\">\n",
       "      <th></th>\n",
       "      <th>Age</th>\n",
       "      <th>DistanceFromHome</th>\n",
       "      <th>Education</th>\n",
       "      <th>EnvironmentSatisfaction</th>\n",
       "      <th>JobInvolvement</th>\n",
       "      <th>JobLevel</th>\n",
       "      <th>JobSatisfaction</th>\n",
       "      <th>MonthlyIncome</th>\n",
       "      <th>NumCompaniesWorked</th>\n",
       "      <th>PercentSalaryHike</th>\n",
       "      <th>...</th>\n",
       "      <th>JobRole_Research Director</th>\n",
       "      <th>JobRole_Research Scientist</th>\n",
       "      <th>JobRole_Sales Executive</th>\n",
       "      <th>JobRole_Sales Representative</th>\n",
       "      <th>MaritalStatus_Divorced</th>\n",
       "      <th>MaritalStatus_Married</th>\n",
       "      <th>MaritalStatus_Single</th>\n",
       "      <th>BusinessTravel_0</th>\n",
       "      <th>BusinessTravel_1</th>\n",
       "      <th>BusinessTravel_2</th>\n",
       "    </tr>\n",
       "  </thead>\n",
       "  <tbody>\n",
       "    <tr>\n",
       "      <th>0</th>\n",
       "      <td>41</td>\n",
       "      <td>1</td>\n",
       "      <td>2</td>\n",
       "      <td>2</td>\n",
       "      <td>3</td>\n",
       "      <td>2</td>\n",
       "      <td>4</td>\n",
       "      <td>5993</td>\n",
       "      <td>8</td>\n",
       "      <td>11</td>\n",
       "      <td>...</td>\n",
       "      <td>0</td>\n",
       "      <td>0</td>\n",
       "      <td>1</td>\n",
       "      <td>0</td>\n",
       "      <td>0</td>\n",
       "      <td>0</td>\n",
       "      <td>1</td>\n",
       "      <td>0</td>\n",
       "      <td>1</td>\n",
       "      <td>0</td>\n",
       "    </tr>\n",
       "    <tr>\n",
       "      <th>1</th>\n",
       "      <td>49</td>\n",
       "      <td>8</td>\n",
       "      <td>1</td>\n",
       "      <td>3</td>\n",
       "      <td>2</td>\n",
       "      <td>2</td>\n",
       "      <td>2</td>\n",
       "      <td>5130</td>\n",
       "      <td>1</td>\n",
       "      <td>23</td>\n",
       "      <td>...</td>\n",
       "      <td>0</td>\n",
       "      <td>1</td>\n",
       "      <td>0</td>\n",
       "      <td>0</td>\n",
       "      <td>0</td>\n",
       "      <td>1</td>\n",
       "      <td>0</td>\n",
       "      <td>0</td>\n",
       "      <td>0</td>\n",
       "      <td>1</td>\n",
       "    </tr>\n",
       "    <tr>\n",
       "      <th>2</th>\n",
       "      <td>37</td>\n",
       "      <td>2</td>\n",
       "      <td>2</td>\n",
       "      <td>4</td>\n",
       "      <td>2</td>\n",
       "      <td>1</td>\n",
       "      <td>3</td>\n",
       "      <td>2090</td>\n",
       "      <td>6</td>\n",
       "      <td>15</td>\n",
       "      <td>...</td>\n",
       "      <td>0</td>\n",
       "      <td>0</td>\n",
       "      <td>0</td>\n",
       "      <td>0</td>\n",
       "      <td>0</td>\n",
       "      <td>0</td>\n",
       "      <td>1</td>\n",
       "      <td>0</td>\n",
       "      <td>1</td>\n",
       "      <td>0</td>\n",
       "    </tr>\n",
       "    <tr>\n",
       "      <th>3</th>\n",
       "      <td>33</td>\n",
       "      <td>3</td>\n",
       "      <td>4</td>\n",
       "      <td>4</td>\n",
       "      <td>3</td>\n",
       "      <td>1</td>\n",
       "      <td>3</td>\n",
       "      <td>2909</td>\n",
       "      <td>1</td>\n",
       "      <td>11</td>\n",
       "      <td>...</td>\n",
       "      <td>0</td>\n",
       "      <td>1</td>\n",
       "      <td>0</td>\n",
       "      <td>0</td>\n",
       "      <td>0</td>\n",
       "      <td>1</td>\n",
       "      <td>0</td>\n",
       "      <td>0</td>\n",
       "      <td>0</td>\n",
       "      <td>1</td>\n",
       "    </tr>\n",
       "    <tr>\n",
       "      <th>4</th>\n",
       "      <td>27</td>\n",
       "      <td>2</td>\n",
       "      <td>1</td>\n",
       "      <td>1</td>\n",
       "      <td>3</td>\n",
       "      <td>1</td>\n",
       "      <td>2</td>\n",
       "      <td>3468</td>\n",
       "      <td>9</td>\n",
       "      <td>12</td>\n",
       "      <td>...</td>\n",
       "      <td>0</td>\n",
       "      <td>0</td>\n",
       "      <td>0</td>\n",
       "      <td>0</td>\n",
       "      <td>0</td>\n",
       "      <td>1</td>\n",
       "      <td>0</td>\n",
       "      <td>0</td>\n",
       "      <td>1</td>\n",
       "      <td>0</td>\n",
       "    </tr>\n",
       "  </tbody>\n",
       "</table>\n",
       "<p>5 rows × 46 columns</p>\n",
       "</div>"
      ],
      "text/plain": [
       "   Age  DistanceFromHome  Education  EnvironmentSatisfaction  JobInvolvement  \\\n",
       "0   41                 1          2                        2               3   \n",
       "1   49                 8          1                        3               2   \n",
       "2   37                 2          2                        4               2   \n",
       "3   33                 3          4                        4               3   \n",
       "4   27                 2          1                        1               3   \n",
       "\n",
       "   JobLevel  JobSatisfaction  MonthlyIncome  NumCompaniesWorked  \\\n",
       "0         2                4           5993                   8   \n",
       "1         2                2           5130                   1   \n",
       "2         1                3           2090                   6   \n",
       "3         1                3           2909                   1   \n",
       "4         1                2           3468                   9   \n",
       "\n",
       "   PercentSalaryHike  ...  JobRole_Research Director  \\\n",
       "0                 11  ...                          0   \n",
       "1                 23  ...                          0   \n",
       "2                 15  ...                          0   \n",
       "3                 11  ...                          0   \n",
       "4                 12  ...                          0   \n",
       "\n",
       "   JobRole_Research Scientist  JobRole_Sales Executive  \\\n",
       "0                           0                        1   \n",
       "1                           1                        0   \n",
       "2                           0                        0   \n",
       "3                           1                        0   \n",
       "4                           0                        0   \n",
       "\n",
       "   JobRole_Sales Representative  MaritalStatus_Divorced  \\\n",
       "0                             0                       0   \n",
       "1                             0                       0   \n",
       "2                             0                       0   \n",
       "3                             0                       0   \n",
       "4                             0                       0   \n",
       "\n",
       "   MaritalStatus_Married  MaritalStatus_Single  BusinessTravel_0  \\\n",
       "0                      0                     1                 0   \n",
       "1                      1                     0                 0   \n",
       "2                      0                     1                 0   \n",
       "3                      1                     0                 0   \n",
       "4                      1                     0                 0   \n",
       "\n",
       "   BusinessTravel_1  BusinessTravel_2  \n",
       "0                 1                 0  \n",
       "1                 0                 1  \n",
       "2                 1                 0  \n",
       "3                 0                 1  \n",
       "4                 1                 0  \n",
       "\n",
       "[5 rows x 46 columns]"
      ]
     },
     "execution_count": 34,
     "metadata": {},
     "output_type": "execute_result"
    }
   ],
   "source": [
    "# Copying just in case\n",
    "ibm_df = ibm.copy()\n",
    "\n",
    "# We create two columns from one (since we have 2 categories)\n",
    "ibm_df = pd.get_dummies(ibm_df, columns = ['OverTime'], dtype='int')\n",
    "\n",
    "# We can delete unneccessary category to aviod redundancy\n",
    "del ibm_df['OverTime_No']\n",
    "\n",
    "# The same for Attrition\n",
    "ibm_df = pd.get_dummies(ibm_df, columns = ['Attrition'], dtype='int')\n",
    "del ibm_df['Attrition_No']\n",
    "\n",
    "# And then do all other features\n",
    "ibm_df = pd.get_dummies(ibm_df, columns = ['Department'], dtype='int')\n",
    "ibm_df = pd.get_dummies(ibm_df, columns = ['EducationField'], dtype='int')\n",
    "ibm_df = pd.get_dummies(ibm_df, columns = ['JobRole'], dtype='int')\n",
    "ibm_df = pd.get_dummies(ibm_df, columns = ['MaritalStatus'], dtype='int')\n",
    "ibm_df = pd.get_dummies(ibm_df, columns = ['BusinessTravel'], dtype='int')\n",
    "ibm_df.head()"
   ]
  },
  {
   "cell_type": "markdown",
   "metadata": {
    "id": "lHLC18oi5d9_"
   },
   "source": [
    "<p style=\"background-color: white; color: black; font-family: Georgia; font-size: 2em; text-align: left; border-radius: 10px; padding: 10px; box-shadow: 0 4px 8px lightsteelblue; margin: 20px 0; margin-right: 55%; border: 1px solid black;\">\n",
    "2. Monthly income predictions\n",
    "</p>"
   ]
  },
  {
   "cell_type": "markdown",
   "metadata": {
    "id": "d9Qlrtt35iF1"
   },
   "source": [
    "Let's build a linear regression model using Sklearn."
   ]
  },
  {
   "cell_type": "code",
   "execution_count": 35,
   "metadata": {
    "id": "TAkwW6ba5dTU"
   },
   "outputs": [],
   "source": [
    "# We split our dataset to train and test. Usually it's done using 80/20 % of data\n",
    "threshold = round(len(ibm_df)*0.8)\n",
    "x_train, y_train = ibm_df.iloc[:threshold, :], ibm_df.iloc[:threshold, 22]\n",
    "x_test, y_test = ibm_df.iloc[threshold:, :], ibm_df.iloc[threshold:, 22]\n",
    "\n",
    "del x_train['Attrition_Yes']\n",
    "del x_test['Attrition_Yes']"
   ]
  },
  {
   "cell_type": "code",
   "execution_count": 36,
   "metadata": {
    "colab": {
     "base_uri": "https://localhost:8080/"
    },
    "id": "1SqnC9acl_ym",
    "outputId": "4ce3978d-bff3-4894-e12a-47ab8cce7685"
   },
   "outputs": [
    {
     "name": "stdout",
     "output_type": "stream",
     "text": [
      "True\n",
      "True\n"
     ]
    }
   ],
   "source": [
    "# Check that they don't overlap\n",
    "print(len(x_train) + len(x_test) == len(ibm_df))\n",
    "print(len(y_train) + len(y_test) == len(ibm_df))"
   ]
  },
  {
   "cell_type": "markdown",
   "metadata": {
    "id": "MqOTWxmLuO1Z"
   },
   "source": [
    "### Formula for loss function of linear regression:\n",
    "$Q(w_1, w_0, X) = \\frac{1}{n}\\sum_{i=1}^{n}(w_1x_i + w_0 - y_i)^2 $\n",
    "\n",
    "We want to minimize it to get the best result"
   ]
  },
  {
   "cell_type": "code",
   "execution_count": 37,
   "metadata": {
    "id": "gfqQ8-DX8UdD"
   },
   "outputs": [],
   "source": [
    "# let's now try to use test_train_split function from Sklearn instead of doing it manually\n",
    "\n",
    "x = ibm_df.drop('MonthlyIncome', axis=1)\n",
    "y = ibm_df['MonthlyIncome']\n",
    "x_train, x_test, y_train, y_test = train_test_split(x, y, test_size=0.2, random_state=33)"
   ]
  },
  {
   "cell_type": "code",
   "execution_count": 38,
   "metadata": {
    "colab": {
     "base_uri": "https://localhost:8080/"
    },
    "id": "msAGdAmN9iB5",
    "outputId": "3e71215a-1769-4dd1-a2c1-83d91f8a12f1"
   },
   "outputs": [
    {
     "data": {
      "text/plain": [
       "0.9448156073674743"
      ]
     },
     "execution_count": 38,
     "metadata": {},
     "output_type": "execute_result"
    }
   ],
   "source": [
    "# Let's try again\n",
    "model = LinearRegression()\n",
    "model.fit(x_train, y_train)\n",
    "\n",
    "# Checking the score\n",
    "model.score(x_train, y_train)"
   ]
  },
  {
   "cell_type": "code",
   "execution_count": 39,
   "metadata": {
    "colab": {
     "base_uri": "https://localhost:8080/"
    },
    "id": "q4gpdZYe9-bg",
    "outputId": "683e993b-a868-4c70-d2b7-a5deb1e7f6cd"
   },
   "outputs": [
    {
     "data": {
      "text/plain": [
       "0.9423504468149312"
      ]
     },
     "execution_count": 39,
     "metadata": {},
     "output_type": "execute_result"
    }
   ],
   "source": [
    "# And try it on the test set\n",
    "model.score(x_test, y_test)"
   ]
  },
  {
   "cell_type": "markdown",
   "metadata": {},
   "source": [
    "Let's look at the features that our model defined as the most important:"
   ]
  },
  {
   "cell_type": "code",
   "execution_count": 77,
   "metadata": {},
   "outputs": [
    {
     "data": {
      "image/png": "[encoded data removed]",
      "text/plain": [
       "<Figure size 400x800 with 1 Axes>"
      ]
     },
     "metadata": {},
     "output_type": "display_data"
    }
   ],
   "source": [
    "coeffs = model.coef_\n",
    "features = x_train.columns.values\n",
    "plt.figure(figsize=(4,8))\n",
    "plt.barh(features, coeffs, color='skyblue');"
   ]
  },
  {
   "cell_type": "code",
   "execution_count": 35,
   "metadata": {
    "colab": {
     "base_uri": "https://localhost:8080/",
     "height": 522
    },
    "id": "WrBn_PJc9xGb",
    "outputId": "ba98d418-4bfa-4431-aaae-5b9415e78310"
   },
   "outputs": [
    {
     "data": {
      "image/png": "[encoded data removed]",
      "text/plain": [
       "<Figure size 800x600 with 1 Axes>"
      ]
     },
     "metadata": {},
     "output_type": "display_data"
    }
   ],
   "source": [
    "y_predict = model.predict(x_test)\n",
    "residuals = y_test - y_predict\n",
    "\n",
    "plt.figure(figsize=(8, 6))\n",
    "plt.plot(y_predict, 'go', label='Prediction')\n",
    "plt.plot(np.array(residuals), 'o', color='lightcoral', label='Residuals')\n",
    "plt.plot(np.array(y_test), 'o', color='c', label='Real data')\n",
    "plt.legend(['Prediction', 'Residuals', 'Real data'], loc='upper left', prop={'size': 8})\n",
    "plt.show()"
   ]
  },
  {
   "cell_type": "markdown",
   "metadata": {
    "id": "RHOoEqi-FZQ7"
   },
   "source": [
    "<p style=\"background-color: white; color: black; font-family: Georgia; font-size: 2em; text-align: left; border-radius: 10px; padding: 10px; box-shadow: 0 4px 8px lightsteelblue; margin: 20px 0; margin-right: 65%; border: 1px solid black;\">\n",
    "2. Attrition predictions\n",
    "</p>"
   ]
  },
  {
   "cell_type": "markdown",
   "metadata": {
    "id": "jEgi152_3CvA"
   },
   "source": [
    "To predict Attrition we should use other model, because this is a binary variable. So, it's a classification problem.  \n",
    "Let's try to use several models for it:"
   ]
  },
  {
   "cell_type": "markdown",
   "metadata": {
    "id": "L2aw13xnDRVl"
   },
   "source": [
    "### 1. LogisticRegression"
   ]
  },
  {
   "cell_type": "code",
   "execution_count": 54,
   "metadata": {
    "id": "BEYUQHvaC3TV"
   },
   "outputs": [],
   "source": [
    "from sklearn.linear_model import LogisticRegression\n",
    "from sklearn.preprocessing import StandardScaler\n",
    "from sklearn.metrics import accuracy_score, f1_score, precision_score, confusion_matrix, recall_score, precision_recall_curve"
   ]
  },
  {
   "cell_type": "code",
   "execution_count": 55,
   "metadata": {
    "colab": {
     "base_uri": "https://localhost:8080/",
     "height": 214
    },
    "id": "gleVOxCm3_dS",
    "outputId": "ebaacf56-be0e-44cf-e438-28f95a6f76bd"
   },
   "outputs": [
    {
     "data": {
      "text/plain": [
       "0.8945578231292517"
      ]
     },
     "execution_count": 55,
     "metadata": {},
     "output_type": "execute_result"
    }
   ],
   "source": [
    "x_train, x_test, y_train, y_test = train_test_split(ibm_df.drop('Attrition_Yes', axis=1), ibm_df['Attrition_Yes'], test_size=0.2, random_state=33)\n",
    "\n",
    "# Using solver='lbfgs' option to implement regularization\n",
    "logreg = LogisticRegression(solver='lbfgs', max_iter=10000)\n",
    "logreg.fit(x_train, y_train)\n",
    "\n",
    "# Checking the score\n",
    "logreg.score(x_test, y_test)"
   ]
  },
  {
   "cell_type": "markdown",
   "metadata": {},
   "source": [
    "#### Confusion matrix"
   ]
  },
  {
   "cell_type": "markdown",
   "metadata": {},
   "source": [
    "A confusion matrix is used to evaluate the performance of a classification model.\n",
    "It operates such metrics of predictions as: \n",
    "- True Positive (TP): Correct positive prediction\n",
    "- False Positive (FP): Incorrect positive prediction, real label is negative\n",
    "- False Negative (FN): Incorrect negative prediction, real label is positive\n",
    "- True Negative (TN): Correct negative prediction\n"
   ]
  },
  {
   "cell_type": "markdown",
   "metadata": {},
   "source": [
    "It looks like this:"
   ]
  },
  {
   "cell_type": "code",
   "execution_count": 87,
   "metadata": {},
   "outputs": [
    {
     "name": "stdout",
     "output_type": "stream",
     "text": [
      "╒══════╤══════╕\n",
      "│ TP   │ FP   │\n",
      "╞══════╪══════╡\n",
      "│ FN   │ TN   │\n",
      "╘══════╧══════╛\n"
     ]
    }
   ],
   "source": [
    "col_1 = ['TP', 'FP']\n",
    "col_2 = ['FN', 'TN']\n",
    "table_data = [col_1] + [col_2]\n",
    "print(tabulate(table_data, headers='firstrow', tablefmt='fancy_grid'))"
   ]
  },
  {
   "cell_type": "markdown",
   "metadata": {},
   "source": [
    "Here is the formula to calculate metrics using this terms:"
   ]
  },
  {
   "cell_type": "markdown",
   "metadata": {},
   "source": [
    "$$ Accuracy = \\frac{TP + TN}{TP + TN + FP + FN}$$\n",
    "\n",
    "$$Precision = \\frac{TP}{TP + FP}$$\n",
    "\n",
    "$$Recall = \\frac{TP}{TP + FN}$$\n",
    "\n",
    "$$F1_{score} = \\frac {2 * Precision * Recall}{Precision + Recall}$$"
   ]
  },
  {
   "cell_type": "code",
   "execution_count": 57,
   "metadata": {
    "colab": {
     "base_uri": "https://localhost:8080/"
    },
    "id": "1sy7_4LiLYaR",
    "outputId": "fe762d5a-d474-4686-ce0f-39e838b1b1f9"
   },
   "outputs": [
    {
     "name": "stdout",
     "output_type": "stream",
     "text": [
      "Confusion Matrix:\n",
      "[[237   9]\n",
      " [ 22  26]]\n",
      "Precision: 0.7428571428571429\n",
      "Recall: 0.5416666666666666\n",
      "F1: 0.6265060240963857\n"
     ]
    }
   ],
   "source": [
    "# Let's build a confusion matrix\n",
    "\n",
    "y_pred = logreg.predict(x_test)\n",
    "\n",
    "conf_matrix = confusion_matrix(y_test, y_pred)\n",
    "print(\"Confusion Matrix:\")\n",
    "print(conf_matrix)\n",
    "precision = precision_score(y_test, y_pred)\n",
    "print(\"Precision:\", precision)\n",
    "recall = recall_score(y_test, y_pred)\n",
    "print(\"Recall:\", recall)\n",
    "f1 = f1_score(y_test, y_pred)\n",
    "print(\"F1:\", f1)"
   ]
  },
  {
   "cell_type": "markdown",
   "metadata": {
    "id": "Z6xuucJiQQ2E"
   },
   "source": [
    "### 2. LogisticRegressionCV\n",
    "This model is a subclass of LogisticRegression, but includes cross-validation."
   ]
  },
  {
   "cell_type": "code",
   "execution_count": 58,
   "metadata": {
    "id": "eFXwHQ5mDU3o"
   },
   "outputs": [],
   "source": [
    "from sklearn.linear_model import LogisticRegressionCV"
   ]
  },
  {
   "cell_type": "code",
   "execution_count": 59,
   "metadata": {
    "colab": {
     "base_uri": "https://localhost:8080/"
    },
    "id": "QfBKkj4BDY8l",
    "outputId": "feaa9f43-8e57-4882-c60f-211ac1b9d9af"
   },
   "outputs": [
    {
     "data": {
      "text/plain": [
       "0.8801020408163265"
      ]
     },
     "execution_count": 59,
     "metadata": {},
     "output_type": "execute_result"
    }
   ],
   "source": [
    "x_train, x_test, y_train, y_test = train_test_split(ibm_df.drop('Attrition_Yes', axis=1), ibm_df['Attrition_Yes'], test_size=0.2, random_state=33)\n",
    "\n",
    "logreg = LogisticRegressionCV(max_iter=10000)\n",
    "logreg.fit(x_train, y_train)\n",
    "\n",
    "# Checking the score\n",
    "logreg.score(x_train, y_train)"
   ]
  },
  {
   "cell_type": "markdown",
   "metadata": {},
   "source": [
    "#### Confusion matrix"
   ]
  },
  {
   "cell_type": "code",
   "execution_count": 61,
   "metadata": {
    "colab": {
     "base_uri": "https://localhost:8080/"
    },
    "id": "iBrnxo9rMjZl",
    "outputId": "036393b9-acdb-40b9-aa8d-e4fc0f2e6e93"
   },
   "outputs": [
    {
     "name": "stdout",
     "output_type": "stream",
     "text": [
      "Confusion Matrix:\n",
      "[[237   9]\n",
      " [ 24  24]]\n",
      "Precision: 0.7272727272727273\n",
      "Recall: 0.5\n",
      "F1: 0.5925925925925926\n"
     ]
    }
   ],
   "source": [
    "y_pred = logreg.predict(x_test)\n",
    "\n",
    "conf_matrix = confusion_matrix(y_test, y_pred)\n",
    "print(\"Confusion Matrix:\")\n",
    "print(conf_matrix)\n",
    "precision = precision_score(y_test, y_pred)\n",
    "print(\"Precision:\", precision)\n",
    "recall = recall_score(y_test, y_pred)\n",
    "print(\"Recall:\", recall)\n",
    "f1 = f1_score(y_test, y_pred)\n",
    "print(\"F1:\", f1)"
   ]
  },
  {
   "cell_type": "markdown",
   "metadata": {
    "id": "wifklYfhQXBA"
   },
   "source": [
    "### 3. KNeighborsClassifier"
   ]
  },
  {
   "cell_type": "code",
   "execution_count": 62,
   "metadata": {
    "id": "bTxlHYrfO1wu"
   },
   "outputs": [],
   "source": [
    "from sklearn.neighbors import KNeighborsClassifier"
   ]
  },
  {
   "cell_type": "code",
   "execution_count": 63,
   "metadata": {
    "colab": {
     "base_uri": "https://localhost:8080/"
    },
    "id": "DHbrIU8HO2yl",
    "outputId": "60711a6a-a738-4a16-8ad1-c8ba94f18682"
   },
   "outputs": [
    {
     "data": {
      "text/plain": [
       "0.8129251700680272"
      ]
     },
     "execution_count": 63,
     "metadata": {},
     "output_type": "execute_result"
    }
   ],
   "source": [
    "x_train, x_test, y_train, y_test = train_test_split(ibm_df.drop('Attrition_Yes', axis=1), ibm_df['Attrition_Yes'], test_size=0.2, random_state=33)\n",
    "\n",
    "# Create a KNN model and fit it to the training data\n",
    "knn = KNeighborsClassifier()\n",
    "knn.fit(x_train, y_train)\n",
    "\n",
    "# Checking the score on the training set\n",
    "knn.score(x_test, y_test)"
   ]
  },
  {
   "cell_type": "markdown",
   "metadata": {},
   "source": [
    "#### Confusion matrix"
   ]
  },
  {
   "cell_type": "code",
   "execution_count": 64,
   "metadata": {
    "colab": {
     "base_uri": "https://localhost:8080/"
    },
    "id": "CEVH4ql8QKpa",
    "outputId": "cea649b1-ae12-4c92-8520-bda637a6dbb9"
   },
   "outputs": [
    {
     "name": "stdout",
     "output_type": "stream",
     "text": [
      "Confusion Matrix:\n",
      "[[237   9]\n",
      " [ 46   2]]\n",
      "Precision: 0.18181818181818182\n",
      "Recall: 0.041666666666666664\n",
      "F1: 0.06779661016949153\n"
     ]
    }
   ],
   "source": [
    "y_pred = knn.predict(x_test)\n",
    "\n",
    "conf_matrix = confusion_matrix(y_test, y_pred)\n",
    "print(\"Confusion Matrix:\")\n",
    "print(conf_matrix)\n",
    "precision = precision_score(y_test, y_pred)\n",
    "print(\"Precision:\", precision)\n",
    "recall = recall_score(y_test, y_pred)\n",
    "print(\"Recall:\", recall)\n",
    "f1 = f1_score(y_test, y_pred)\n",
    "print(\"F1:\", f1)"
   ]
  },
  {
   "cell_type": "markdown",
   "metadata": {},
   "source": [
    "### 4. Conclusions"
   ]
  },
  {
   "cell_type": "markdown",
   "metadata": {
    "id": "wQfiZssBSC8k"
   },
   "source": [
    "So, the third model doesn't seem relevant due to results.  \n",
    "And the 2-nd model is a bit better then the 1st one. It means that cross-validation is a good option to use as often as it is possible by the task.  \n",
    "KNN-model showed slightly worse results, especially on precision, recall and f1-score.\n",
    "\n",
    "Let's use the 2-nd model for further calculations"
   ]
  },
  {
   "cell_type": "code",
   "execution_count": null,
   "metadata": {
    "colab": {
     "base_uri": "https://localhost:8080/"
    },
    "id": "zw8w5eL9WKhl",
    "outputId": "4c1f93a2-8ebc-481d-e5c5-1a0578048175"
   },
   "outputs": [
    {
     "data": {
      "text/plain": [
       "0.8826530612244898"
      ]
     },
     "execution_count": 116,
     "metadata": {},
     "output_type": "execute_result"
    }
   ],
   "source": [
    "x_train, x_test, y_train, y_test = train_test_split(ibm_df.drop('Attrition_Yes', axis=1), ibm_df['Attrition_Yes'], test_size=0.2, random_state=33)\n",
    "\n",
    "logreg = LogisticRegressionCV(max_iter=10000)\n",
    "logreg.fit(x_train, y_train)\n",
    "\n",
    "# Checking the score\n",
    "logreg.score(x_train, y_train)"
   ]
  },
  {
   "cell_type": "markdown",
   "metadata": {
    "id": "0LfCihCRhW3x"
   },
   "source": [
    "Now let's calculate thresholds that maximize recall and f1-score:"
   ]
  },
  {
   "cell_type": "code",
   "execution_count": 66,
   "metadata": {
    "colab": {
     "base_uri": "https://localhost:8080/"
    },
    "id": "1_qY-LV8V_JF",
    "outputId": "eaef39e1-7fea-438e-b2b2-fd5aaabe880c"
   },
   "outputs": [
    {
     "name": "stdout",
     "output_type": "stream",
     "text": [
      "Threshold that maximizes recall: 0.0002386867235426604\n",
      "Threshold that maximizes F1 score: 0.34330950859303744\n"
     ]
    }
   ],
   "source": [
    "# First, we predict the probabilities to obtain 1 or 0\n",
    "# It gives us two arrays, we can take one of them\n",
    "y_pred_prob = logreg.predict_proba(x_test)[:, 1]\n",
    "\n",
    "# Calculate precision, recall, and thresholds\n",
    "precision, recall, thresholds = precision_recall_curve(y_test, y_pred_prob)\n",
    "\n",
    "# Calculate F1 score at each threshold\n",
    "f1_scores = []\n",
    "for i in range(len(thresholds)):\n",
    "    score = 2 * precision[i] * recall[i] / (precision[i] + recall[i])\n",
    "    f1_scores.append(score)\n",
    "\n",
    "# Find the threshold that maximizes recall and f1-score\n",
    "max_recall = thresholds[np.argmax(recall)]\n",
    "max_f1_score = thresholds[np.argmax(f1_scores)]\n",
    "\n",
    "print(\"Threshold that maximizes recall:\", max_recall)\n",
    "print(\"Threshold that maximizes F1 score:\", max_f1_score)"
   ]
  },
  {
   "cell_type": "markdown",
   "metadata": {
    "id": "n37Yhgd7kNJn"
   },
   "source": [
    "Let's make a dataframe containing all these values of our model:"
   ]
  },
  {
   "cell_type": "code",
   "execution_count": 67,
   "metadata": {
    "colab": {
     "base_uri": "https://localhost:8080/",
     "height": 423
    },
    "id": "sBH1B2rXiJDQ",
    "outputId": "10df9436-d359-4706-a5bc-9d8b422d7561"
   },
   "outputs": [
    {
     "data": {
      "text/html": [
       "<div>\n",
       "<style scoped>\n",
       "    .dataframe tbody tr th:only-of-type {\n",
       "        vertical-align: middle;\n",
       "    }\n",
       "\n",
       "    .dataframe tbody tr th {\n",
       "        vertical-align: top;\n",
       "    }\n",
       "\n",
       "    .dataframe thead th {\n",
       "        text-align: right;\n",
       "    }\n",
       "</style>\n",
       "<table border=\"1\" class=\"dataframe\">\n",
       "  <thead>\n",
       "    <tr style=\"text-align: right;\">\n",
       "      <th></th>\n",
       "      <th>Precision</th>\n",
       "      <th>Recall</th>\n",
       "      <th>Thresholds</th>\n",
       "    </tr>\n",
       "  </thead>\n",
       "  <tbody>\n",
       "    <tr>\n",
       "      <th>0</th>\n",
       "      <td>0.163265</td>\n",
       "      <td>1.000000</td>\n",
       "      <td>0.000239</td>\n",
       "    </tr>\n",
       "    <tr>\n",
       "      <th>1</th>\n",
       "      <td>0.163823</td>\n",
       "      <td>1.000000</td>\n",
       "      <td>0.000335</td>\n",
       "    </tr>\n",
       "    <tr>\n",
       "      <th>2</th>\n",
       "      <td>0.164384</td>\n",
       "      <td>1.000000</td>\n",
       "      <td>0.001133</td>\n",
       "    </tr>\n",
       "    <tr>\n",
       "      <th>3</th>\n",
       "      <td>0.164948</td>\n",
       "      <td>1.000000</td>\n",
       "      <td>0.001548</td>\n",
       "    </tr>\n",
       "    <tr>\n",
       "      <th>4</th>\n",
       "      <td>0.165517</td>\n",
       "      <td>1.000000</td>\n",
       "      <td>0.001588</td>\n",
       "    </tr>\n",
       "    <tr>\n",
       "      <th>...</th>\n",
       "      <td>...</td>\n",
       "      <td>...</td>\n",
       "      <td>...</td>\n",
       "    </tr>\n",
       "    <tr>\n",
       "      <th>289</th>\n",
       "      <td>1.000000</td>\n",
       "      <td>0.104167</td>\n",
       "      <td>0.785874</td>\n",
       "    </tr>\n",
       "    <tr>\n",
       "      <th>290</th>\n",
       "      <td>1.000000</td>\n",
       "      <td>0.083333</td>\n",
       "      <td>0.815596</td>\n",
       "    </tr>\n",
       "    <tr>\n",
       "      <th>291</th>\n",
       "      <td>1.000000</td>\n",
       "      <td>0.062500</td>\n",
       "      <td>0.843814</td>\n",
       "    </tr>\n",
       "    <tr>\n",
       "      <th>292</th>\n",
       "      <td>1.000000</td>\n",
       "      <td>0.041667</td>\n",
       "      <td>0.873299</td>\n",
       "    </tr>\n",
       "    <tr>\n",
       "      <th>293</th>\n",
       "      <td>1.000000</td>\n",
       "      <td>0.020833</td>\n",
       "      <td>0.925714</td>\n",
       "    </tr>\n",
       "  </tbody>\n",
       "</table>\n",
       "<p>294 rows × 3 columns</p>\n",
       "</div>"
      ],
      "text/plain": [
       "     Precision    Recall  Thresholds\n",
       "0     0.163265  1.000000    0.000239\n",
       "1     0.163823  1.000000    0.000335\n",
       "2     0.164384  1.000000    0.001133\n",
       "3     0.164948  1.000000    0.001548\n",
       "4     0.165517  1.000000    0.001588\n",
       "..         ...       ...         ...\n",
       "289   1.000000  0.104167    0.785874\n",
       "290   1.000000  0.083333    0.815596\n",
       "291   1.000000  0.062500    0.843814\n",
       "292   1.000000  0.041667    0.873299\n",
       "293   1.000000  0.020833    0.925714\n",
       "\n",
       "[294 rows x 3 columns]"
      ]
     },
     "execution_count": 67,
     "metadata": {},
     "output_type": "execute_result"
    }
   ],
   "source": [
    "# First we zip our data\n",
    "data = zip(precision, recall, thresholds)\n",
    "\n",
    "# And then concatenate to a new dataframe\n",
    "model_scores = pd.DataFrame(data, columns=['Precision', 'Recall', 'Thresholds'])\n",
    "model_scores"
   ]
  },
  {
   "cell_type": "markdown",
   "metadata": {
    "id": "6uCR9_PGhkIp"
   },
   "source": [
    "Let's look at our precision-recall plot:"
   ]
  },
  {
   "cell_type": "code",
   "execution_count": 71,
   "metadata": {
    "colab": {
     "base_uri": "https://localhost:8080/",
     "height": 472
    },
    "id": "HncNfG-lZGyX",
    "outputId": "a85a0b69-5770-4efe-8a6f-b78109f85343"
   },
   "outputs": [
    {
     "data": {
      "image/png": "[encoded data removed]",
      "text/plain": [
       "<Figure size 640x480 with 1 Axes>"
      ]
     },
     "metadata": {},
     "output_type": "display_data"
    }
   ],
   "source": [
    "plt.plot(model_scores['Recall'], model_scores['Precision'], color='steelblue')\n",
    "plt.xlabel('Recall')\n",
    "plt.ylabel('Precision')\n",
    "plt.title('Precision-Recall Curve')\n",
    "plt.show()"
   ]
  },
  {
   "cell_type": "code",
   "execution_count": 69,
   "metadata": {
    "colab": {
     "base_uri": "https://localhost:8080/"
    },
    "id": "O7febouakykb",
    "outputId": "ce5c5827-18f4-4eb9-d54b-015aedc87d30"
   },
   "outputs": [
    {
     "name": "stdout",
     "output_type": "stream",
     "text": [
      "index of max precision:  284\n",
      "index of max precision:  284\n",
      "Threshold of max precision:  0.7336239098735876\n"
     ]
    }
   ],
   "source": [
    "# We can find index in our dataframe for max recall\n",
    "print('index of max precision: ', model_scores['Precision'].idxmax())\n",
    "# Or that way\n",
    "print('index of max precision: ', np.argmax(precision))\n",
    "# And its value:\n",
    "print('Threshold of max precision: ', model_scores['Thresholds'][np.argmax(precision)])"
   ]
  },
  {
   "cell_type": "markdown",
   "metadata": {
    "id": "GOXKad6gl9tT"
   },
   "source": [
    "Let's show it on the plot:"
   ]
  },
  {
   "cell_type": "code",
   "execution_count": 73,
   "metadata": {
    "colab": {
     "base_uri": "https://localhost:8080/",
     "height": 449
    },
    "id": "sCHuYZy6bGLH",
    "outputId": "c2773fdb-821f-4700-b682-7e70a38487b5"
   },
   "outputs": [
    {
     "data": {
      "image/png": "[encoded data removed]",
      "text/plain": [
       "<Figure size 640x480 with 1 Axes>"
      ]
     },
     "metadata": {},
     "output_type": "display_data"
    }
   ],
   "source": [
    "plt.plot(recall, precision, color='steelblue', label='Precision-Recall curve')\n",
    "plt.scatter(recall[np.argmax(f1_scores)], \n",
    "            precision[np.argmax(f1_scores)], \n",
    "            color='peru', \n",
    "            label='Maximized F1 Threshold')\n",
    "plt.scatter(recall[np.argmax(precision)], \n",
    "            precision[np.argmax(precision)],\n",
    "            color='plum', \n",
    "            label='Maximized Precision Threshold')\n",
    "plt.xlabel('Recall')\n",
    "plt.ylabel('Precision')\n",
    "plt.legend()\n",
    "plt.show()"
   ]
  },
  {
   "cell_type": "markdown",
   "metadata": {},
   "source": [
    "<p style=\"background-color: white; color: black; margin-left: 40%; margin-right: 40%; font-family: Cambria; font-size: 2em; text-align: center; border-radius: 0px; padding: 5px; border: 0px solid black;\">\n",
    "Created by:\n",
    "</p>\n",
    "<p style=\"background-color: white; color: black; font-family: Garamond; font-size: 2em; text-align: left; border-radius: 15px; padding: 25px; box-shadow: 0 4px 8px lightsteelblue; border: 1px solid black;\">\n",
    "Novotochin Artem\n",
    "    <br>\n",
    "    <br>\n",
    "    <br>\n",
    "Data scientist | Data engineer\n",
    "</p>"
   ]
  }
 ],
 "metadata": {
  "colab": {
   "provenance": []
  },
  "kernelspec": {
   "display_name": "Python 3 (ipykernel)",
   "language": "python",
   "name": "python3"
  },
  "language_info": {
   "codemirror_mode": {
    "name": "ipython",
    "version": 3
   },
   "file_extension": ".py",
   "mimetype": "text/x-python",
   "name": "python",
   "nbconvert_exporter": "python",
   "pygments_lexer": "ipython3",
   "version": "3.10.9"
  }
 },
 "nbformat": 4,
 "nbformat_minor": 1
}
